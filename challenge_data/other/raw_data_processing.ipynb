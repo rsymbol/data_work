{
 "cells": [
  {
   "cell_type": "markdown",
   "metadata": {},
   "source": [
    "# Train dataset preparation"
   ]
  },
  {
   "cell_type": "markdown",
   "metadata": {},
   "source": [
    "#### dependencies"
   ]
  },
  {
   "cell_type": "code",
   "execution_count": 1,
   "metadata": {
    "collapsed": true
   },
   "outputs": [],
   "source": [
    "import os\n",
    "import sys\n",
    "import re\n",
    "import calendar\n",
    "import pandas as pd\n",
    "import numpy as np"
   ]
  },
  {
   "cell_type": "markdown",
   "metadata": {},
   "source": [
    "#### Загружаем данные"
   ]
  },
  {
   "cell_type": "code",
   "execution_count": 2,
   "metadata": {
    "collapsed": true
   },
   "outputs": [],
   "source": [
    "path2data = 'c:\\\\Users\\\\ds_master\\\\hackaton'"
   ]
  },
  {
   "cell_type": "code",
   "execution_count": 2,
   "metadata": {
    "code_folding": []
   },
   "outputs": [
    {
     "name": "stdout",
     "output_type": "stream",
     "text": [
      "importing info\n",
      "importing state\n",
      "importing trans (later)\n",
      "Wall time: 479 ms\n"
     ]
    }
   ],
   "source": [
    "%%time\n",
    "\n",
    "if sys.platform=='linux':\n",
    "    path2data = '/mnt/wind/hac2/'\n",
    "else:\n",
    "    path2data = 'c:\\\\Users\\\\shvets-py\\\\Documents\\\\atms\\\\final_shvets'\n",
    "\n",
    "print('importing info')\n",
    "info = pd.read_csv(os.path.join(path2data, 'ssd_info.csv'))\n",
    "print('importing state')\n",
    "state = pd.read_csv(os.path.join(path2data, 'ssd_state.csv'))\n",
    "print('importing trans (later)')"
   ]
  },
  {
   "cell_type": "markdown",
   "metadata": {},
   "source": [
    "#### Макропеременные"
   ]
  },
  {
   "cell_type": "code",
   "execution_count": 3,
   "metadata": {
    "collapsed": true
   },
   "outputs": [],
   "source": [
    "FORECAST_PERIOD = 'weekofyear2'\n",
    "FORECAST_AFTER_DATETIME = pd.datetime.strptime('2018-01-12', '%Y-%m-%d')"
   ]
  },
  {
   "cell_type": "markdown",
   "metadata": {},
   "source": [
    "#### Global functions"
   ]
  },
  {
   "cell_type": "code",
   "execution_count": 4,
   "metadata": {
    "collapsed": true
   },
   "outputs": [],
   "source": [
    "def datetime_to_period(dt, period_type):\n",
    "    if period_type=='month':\n",
    "        return pd.DatetimeIndex(dt).month\n",
    "    elif period_type=='weekofyear':\n",
    "        return pd.DatetimeIndex(dt).weekofyear\n",
    "    elif period_type=='weekofyear2':\n",
    "        return (pd.DatetimeIndex(dt).weekofyear + 1) // 2\n",
    "    else:\n",
    "        return pd.DatetimeIndex(dt)"
   ]
  },
  {
   "cell_type": "code",
   "execution_count": 5,
   "metadata": {
    "collapsed": true
   },
   "outputs": [],
   "source": [
    "def aggdummies(data, dummy_prefix, agg_func):\n",
    "    return data.filter(like=dummy_prefix).agg(agg_func)\n",
    "def divide(a, b):\n",
    "    return np.divide(a, b, out=np.zeros_like(a), where=b!=0)\n",
    "def days_in_forecast_period(x, period_type):\n",
    "    if period_type=='month':\n",
    "        return x.apply(lambda x: calendar.monthrange(x.year, x.month)[1]).mean()\n",
    "    elif period_type=='weekofyear':\n",
    "        return 7\n",
    "    elif period_type=='weekofyear2':\n",
    "        return 14\n",
    "    else:\n",
    "        return 0"
   ]
  },
  {
   "cell_type": "code",
   "execution_count": 6,
   "metadata": {
    "collapsed": true
   },
   "outputs": [],
   "source": [
    "with open(os.path.join(path2data, 'ssd_trans.csv')) as f:\n",
    "    head = f.readline()\n",
    "atm_files = {}\n",
    "os.makedirs(os.path.join(path2data, 'by_ids'), exist_ok=True)\n",
    "for atm_id in range(351):\n",
    "    atm_files[atm_id] = open(os.path.join(path2data + '/by_ids', 'ssd_trans_' + str(atm_id) + '.csv'), mode='a')\n",
    "    atm_files[atm_id].write(head)"
   ]
  },
  {
   "cell_type": "code",
   "execution_count": 7,
   "metadata": {},
   "outputs": [
    {
     "name": "stdout",
     "output_type": "stream",
     "text": [
      "atm_id,dNDCSessionTime,sCardNumber,nTrRequestCount,nTrReplyCount,nCommandCompletionCount,nBnaAcceptCount,nBnaUserErrorCount,nBnaReturnCount,nBnaVaultCount,nCdmDispenseCount,nCdmDeliveryCount,nCdmSprayDispenseCount,nFrontPrepareCount,nFrontConfirmCount,nReceiptPrintCount,nCardCaptureCount,nSessionErrorCount,dCardRemovalTime,dSesionEndTime,dCdmDeliveryTime,sCdmDeliveryDeliveryStatus,dCdmDispenseTime,sCdmDispenseDispenseStatus,nCdmDispenseDispenseAmount,nCdmDispenseDispenseCurrency,dBnaAcceptTime,sBnaAcceptStatusId,sBnaAcceptStatusText,nBnaAcceptAcceptedAmount,sBnaAcceptAccaptedNotes,sBnaAcceptAcceptedCurrency,nBnaAcceptRefuseCount,nBnaAcceptType,nBnaAcceptComment,nBnaAcceptedNotesCount,sCardRemovalStatus,sTrRequestOpCodes\n",
      "\n",
      "Wall time: 3min 58s\n"
     ]
    }
   ],
   "source": [
    "%%time\n",
    "num_lines = 0\n",
    "with open(os.path.join(path2data, 'ssd_trans.csv')) as f:\n",
    "    print(f.readline())\n",
    "    \n",
    "    while True:\n",
    "        line = f.readline()\n",
    "        if line == '':\n",
    "            break\n",
    "        atm_id = int(line.split(',')[0])\n",
    "        atm_files[atm_id].write(line)\n",
    "        num_lines += 1"
   ]
  },
  {
   "cell_type": "markdown",
   "metadata": {},
   "source": [
    "## Предобработка данных"
   ]
  },
  {
   "cell_type": "markdown",
   "metadata": {},
   "source": [
    "### trans table"
   ]
  },
  {
   "cell_type": "code",
   "execution_count": 8,
   "metadata": {
    "collapsed": true
   },
   "outputs": [],
   "source": [
    "def trans_aggr(x):\n",
    "    out = {\n",
    "        'transactions_count': len(x),\n",
    "        'distinct_days': len(x['dNDCSessionTime'].unique()),\n",
    "        'days_in_forecast_period': days_in_forecast_period(x['dNDCSessionTime'], FORECAST_PERIOD),\n",
    "        'avg_card_number': x['sCardNumber'].mean(),\n",
    "        'avg_request_count': x['nTrRequestCount'].mean(),\n",
    "        'avg_reply_count': x['nTrReplyCount'].mean(),\n",
    "        'avg_command_completion_count': x['nCommandCompletionCount'].mean(),\n",
    "        'avg_bna_accept_count': x['nBnaAcceptCount'].mean(),\n",
    "        'avg_bna_user_error_count': x['nBnaUserErrorCount'].mean(),\n",
    "        'avg_bna_return_count': x['nBnaReturnCount'].mean(),\n",
    "        'avg_bna_vault_count': x['nBnaVaultCount'].mean(),\n",
    "        'avg_cdm_dispense_count': x['nCdmDispenseCount'].mean(),\n",
    "        'avg_cdm_delivery_count': x['nCdmDeliveryCount'].mean(),\n",
    "        'avg_cdm_spray_dispense_count': x['nCdmSprayDispenseCount'].mean(),\n",
    "        'avg_front_prepare_count': x['nFrontPrepareCount'].mean(),\n",
    "        'avg_front_confirm_count': x['nFrontConfirmCount'].mean(),\n",
    "        'avg_receipt_confirm_count': x['nReceiptPrintCount'].mean(),\n",
    "        'avg_card_capture_count': x['nCardCaptureCount'].mean(),\n",
    "        'avg_session_error_count': x['nSessionErrorCount'].mean(),\n",
    "        \n",
    "        'avg_bna_accept_refuse_count': x['nBnaAcceptRefuseCount'].mean(),\n",
    "        'avg_bna_accepted_notes_count': x['nBnaAcceptedNotesCount'].mean(),\n",
    "        'avg_bna_accepted_amount': x['nBnaAcceptAcceptedAmount'].mean(),\n",
    "        'avg_bna_accepted_currency': x['sBnaAcceptAcceptedCurrency'].mean(),\n",
    "        'avg_cdm_dispense_amount': x['nCdmDispenseDispenseAmount'].mean(),\n",
    "        \n",
    "    }\n",
    "\n",
    "    out.update(aggdummies(x, 'avg_cdm_delivery_status', 'mean'))\n",
    "    out.update(aggdummies(x, 'avg_cdm_dispense_status', 'mean'))\n",
    "    out.update(aggdummies(x, 'avg_dispence_currency', 'mean'))\n",
    "    out.update(aggdummies(x, 'avg_bna_accept_status', 'mean'))\n",
    "    \n",
    "    return pd.Series(out)"
   ]
  },
  {
   "cell_type": "code",
   "execution_count": 9,
   "metadata": {
    "collapsed": true
   },
   "outputs": [],
   "source": [
    "def get_trans_features(x):\n",
    "    x = x.copy()\n",
    "    x['avg_card_number_distinct_day'] = divide(x['avg_card_number'] * x['transactions_count'], \n",
    "                                               x['distinct_days'])\n",
    "    x['avg_request_count_distinct_day'] = divide(x['avg_request_count'] * x['transactions_count'], \n",
    "                                                 x['distinct_days'])\n",
    "    x['avg_reply_count_distinct_day'] = divide(x['avg_reply_count'] * x['transactions_count'], \n",
    "                                               x['distinct_days'])\n",
    "    x['avg_command_copletion_count_distinct_day'] = divide(x['avg_command_completion_count'] * \\\n",
    "                                                           x['transactions_count'],\n",
    "                                                           x['distinct_days'])\n",
    "    x['avg_bna_accept_count_distinct_day'] = divide(x['avg_bna_accept_count'] * x['transactions_count'], \n",
    "                                                    x['distinct_days'])\n",
    "    x['avg_bna_user_error_count_distinct_day'] = divide(x['avg_bna_user_error_count'] * x['transactions_count'], \n",
    "                                                        x['distinct_days'])\n",
    "    x['avg_bna_return_count_distinct_day'] = divide(x['avg_bna_return_count'] * x['transactions_count'], \n",
    "                                                    x['distinct_days'])\n",
    "    x['avg_bna_vault_count_distinct_day'] = divide(x['avg_bna_vault_count'] * x['transactions_count'], \n",
    "                                                   x['distinct_days'])\n",
    "    x['avg_cdm_dispense_count_distinct_day'] = divide(x['avg_cdm_dispense_count'] * x['transactions_count'],\n",
    "                                                      x['distinct_days'])\n",
    "    x['avg_cdm_delivery_count_distinct_day'] = divide(x['avg_cdm_delivery_count'] * x['transactions_count'], \n",
    "                                                      x['distinct_days'])\n",
    "    x['avg_cdm_spray_dispense_count_distinct_day'] = divide(x['avg_cdm_spray_dispense_count'] * \\\n",
    "                                                            x['transactions_count'], \n",
    "                                                            x['distinct_days'])\n",
    "    x['avg_front_prepare_count_distinct_day'] = divide(x['avg_front_prepare_count'] * x['transactions_count'], \n",
    "                                                       x['distinct_days'])\n",
    "    x['avg_front_confirm_count_distinct_day'] = divide(x['avg_front_confirm_count'] * x['transactions_count'], \n",
    "                                                       x['distinct_days'])\n",
    "    x['avg_receipt_confirm_count_distinct_day'] = divide(x['avg_receipt_confirm_count'] * x['transactions_count'], \n",
    "                                                         x['distinct_days'])\n",
    "    x['avg_card_capture_count_distinct_day'] = divide(x['avg_card_capture_count'] * x['transactions_count'], \n",
    "                                                      x['distinct_days'])\n",
    "    x['avg_session_error_count_distinct_day'] = divide(x['avg_session_error_count'] * x['transactions_count'], \n",
    "                                                       x['distinct_days'])\n",
    "    x['avg_cdm_delivery_status_unknown_distinct_day'] = divide(x['avg_cdm_delivery_status_unknown'] * \\\n",
    "                                                               x['transactions_count'], \n",
    "                                                               x['distinct_days'])\n",
    "    x['avg_bna_accept_refuse_count_distinct_day'] = divide(x['avg_bna_accept_refuse_count'] * \\\n",
    "                                                           x['transactions_count'], x['distinct_days'])\n",
    "    x['avg_bna_accepted_notes_count_distinct_day'] = divide(x['avg_bna_accepted_notes_count'] * \\\n",
    "                                                            x['transactions_count'], x['distinct_days'])\n",
    "    x['avg_bna_accepted_amount_distinct_day'] = divide(x['avg_bna_accepted_amount'] * \\\n",
    "                                                       x['transactions_count'], x['distinct_days'])\n",
    "    x['avg_bna_accepted_currency_distinct_day'] = divide(x['avg_bna_accepted_currency'] * x['transactions_count'], \n",
    "                                                         x['distinct_days'])\n",
    "    x['avg_cdm_dispense_amount_distinct_day'] = divide(x['avg_cdm_dispense_amount'] * \\\n",
    "                                                       x['transactions_count'], x['distinct_days'])\n",
    "    x['count_card_number'] = x['avg_card_number'] * x['transactions_count']\n",
    "    x['count_request_count'] = x['avg_request_count'] * x['transactions_count']\n",
    "    x['count_reply_count'] = x['avg_reply_count'] * x['transactions_count']\n",
    "    x['count_command_copletion_count'] = x['avg_command_completion_count'] * x['transactions_count']\n",
    "    x['count_bna_accept_count'] = x['avg_bna_accept_count'] * x['transactions_count']\n",
    "    x['count_bna_user_error_count'] = x['avg_bna_user_error_count'] * x['transactions_count']\n",
    "    x['count_bna_return_count'] = x['avg_bna_return_count'] * x['transactions_count']\n",
    "    x['count_bna_vault_count'] = x['avg_bna_vault_count'] * x['transactions_count']\n",
    "    x['count_cdm_dispense_count'] = x['avg_cdm_dispense_count'] * x['transactions_count']\n",
    "    x['count_cdm_delivery_count'] = x['avg_cdm_delivery_count'] * x['transactions_count']\n",
    "    x['count_cdm_spray_dispense_count'] = x['avg_cdm_spray_dispense_count'] * x['transactions_count']\n",
    "    x['count_front_prepare_count'] = x['avg_front_prepare_count'] * x['transactions_count']\n",
    "    x['count_front_confirm_count'] = x['avg_front_confirm_count'] * x['transactions_count']\n",
    "    x['count_receipt_confirm_count'] = x['avg_receipt_confirm_count'] * x['transactions_count']\n",
    "    x['count_card_capture_count'] = x['avg_card_capture_count'] * x['transactions_count']\n",
    "    x['count_session_error_count'] = x['avg_session_error_count'] * x['transactions_count']\n",
    "    x['count_cdm_delivery_status_unknown'] = x['avg_cdm_delivery_status_unknown'] * x['transactions_count']\n",
    "    x['count_bna_accept_refuse_count'] = x['avg_bna_accept_refuse_count'] * x['transactions_count']\n",
    "    x['count_bna_accepted_notes_count'] = x['avg_bna_accepted_notes_count'] * x['transactions_count']\n",
    "    x['count_bna_accepted_amount'] = x['avg_bna_accepted_amount'] * x['transactions_count']\n",
    "    x['count_bna_accepted_currency'] = x['avg_bna_accepted_currency'] * x['transactions_count']\n",
    "    x['count_cdm_dispense_amount'] = x['avg_cdm_dispense_amount'] * x['transactions_count']\n",
    "    \n",
    "    return x"
   ]
  },
  {
   "cell_type": "code",
   "execution_count": 10,
   "metadata": {
    "scrolled": true
   },
   "outputs": [
    {
     "data": {},
     "metadata": {},
     "output_type": "display_data"
    },
    {
     "name": "stdout",
     "output_type": "stream",
     "text": [
      "\n",
      "(8392, 86)\n"
     ]
    }
   ],
   "source": [
    "trans_arr = []\n",
    "import tqdm\n",
    "for atm_id in tqdm.tqdm_notebook(range(351)):\n",
    "    trans = pd.read_csv(os.path.join(path2data + '/by_ids', 'ssd_trans_' + str(atm_id) + '.csv'),\\\n",
    "                                                                  dtype={'dBnaAcceptTime': 'object',\\\n",
    "                                                                         'sBnaAcceptStatusId': 'object',\\\n",
    "                                                                         'sBnaAcceptStatusText': 'object',\\\n",
    "                                                                         'sBnaAcceptAccaptedNotes': 'object',\\\n",
    "                                                                         'nBnaAcceptType': 'object',\\\n",
    "                                                                         'nBnaAcceptComment': 'object'})\n",
    "    trans['dNDCSessionTime'] = pd.to_datetime(trans['dNDCSessionTime'], format=\"%Y/%m/%d %H:%M:%S\")\n",
    "    trans['year'] = pd.DatetimeIndex(trans['dNDCSessionTime']).year\n",
    "    trans['month'] = pd.DatetimeIndex(trans['dNDCSessionTime']).month\n",
    "    trans['weekofyear'] = pd.DatetimeIndex(trans['dNDCSessionTime']).weekofyear\n",
    "    trans['period'] = datetime_to_period(trans['dNDCSessionTime'], FORECAST_PERIOD)\n",
    "\n",
    "    trans['sCdmDeliveryDeliveryStatus'] = trans['sCdmDeliveryDeliveryStatus'].fillna('null')\n",
    "    trans['sCdmDispenseDispenseStatus'] = trans['sCdmDispenseDispenseStatus'].fillna('null')\n",
    "    trans['nCdmDispenseDispenseCurrency'] = trans['nCdmDispenseDispenseCurrency'].fillna(0).astype(int)\n",
    "    trans['sBnaAcceptStatusId'].fillna('null', inplace=True)\n",
    "    trans['sBnaAcceptStatusId'] = trans['sBnaAcceptStatusId'].apply(lambda x: {'null':'null',\n",
    "                                                                               '0x00500A00':'ok', \n",
    "                                                                               '0x00500A01':'init_failed', \n",
    "                                                                               '0x00500A02':'start_failed', \n",
    "                                                                               '0x00500A03':'error', \n",
    "                                                                               '0x00500A04':'unknown', \n",
    "                                                                               '0x00500A05':'virtual'}[x])\n",
    "\n",
    "    trans = pd.get_dummies(trans, columns=['sCdmDeliveryDeliveryStatus'], prefix=['avg_cdm_delivery_status'])\n",
    "    if 'avg_cdm_delivery_status_unknown' not in trans.columns:\n",
    "        trans['avg_cdm_delivery_status_unknown'] = 0\n",
    "    trans = pd.get_dummies(trans, columns=['sCdmDispenseDispenseStatus'], prefix=['avg_cdm_dispense_status'])\n",
    "    trans = pd.get_dummies(trans, columns=['nCdmDispenseDispenseCurrency'], prefix=['avg_dispence_currency'])\n",
    "    trans = pd.get_dummies(trans, columns=['sBnaAcceptStatusId'], prefix=['avg_bna_accept_status'])\n",
    "    trans = trans.groupby(['atm_id', 'year', 'period']).apply(trans_aggr).reset_index()\n",
    "    trans = get_trans_features(trans)\n",
    "    trans_arr.append(trans)\n",
    "    \n",
    "    \n",
    "trans = pd.concat(trans_arr)\n",
    "print(trans.shape)"
   ]
  },
  {
   "cell_type": "code",
   "execution_count": 11,
   "metadata": {},
   "outputs": [
    {
     "name": "stdout",
     "output_type": "stream",
     "text": [
      "(8392, 86)\n"
     ]
    }
   ],
   "source": [
    "trans = pd.concat(trans_arr)\n",
    "print(trans.shape)"
   ]
  },
  {
   "cell_type": "markdown",
   "metadata": {},
   "source": [
    "### state table"
   ]
  },
  {
   "cell_type": "code",
   "execution_count": 12,
   "metadata": {
    "collapsed": true
   },
   "outputs": [],
   "source": [
    "def get_state_date(x):\n",
    "    if not pd.isnull(x['dModuleStatusTime']):\n",
    "        return x['dModuleStatusTime']\n",
    "    elif not pd.isnull(x['dResetDevicesStart']):\n",
    "        return x['dResetDevicesStart']\n",
    "    else:\n",
    "        return x['dInServiceStart']"
   ]
  },
  {
   "cell_type": "code",
   "execution_count": 13,
   "metadata": {
    "collapsed": true
   },
   "outputs": [],
   "source": [
    "state['state_date'] = state.apply(get_state_date, axis=1)\n",
    "state['state_date'] = pd.to_datetime(state['state_date'], format='%Y/%m/%d %H:%M:%S')\n",
    "state['year'] = pd.DatetimeIndex(state['state_date']).year\n",
    "state['month'] = pd.DatetimeIndex(state['state_date']).month\n",
    "state['weekofyear'] = pd.DatetimeIndex(state['state_date']).weekofyear\n",
    "state['period'] = datetime_to_period(state['state_date'], FORECAST_PERIOD)"
   ]
  },
  {
   "cell_type": "code",
   "execution_count": 14,
   "metadata": {
    "collapsed": true
   },
   "outputs": [],
   "source": [
    "def get_error_date(x, module, suffix=''):\n",
    "    return x.loc[x[module].isin(['hw error','user error','locked'])]\\\n",
    "            .groupby(['atm_id', 'year', 'period'])\\\n",
    "            .agg({'state_date':np.max})\\\n",
    "            .rename(columns={'state_date' : 'state_date_{suffix}'.format(suffix=suffix)})"
   ]
  },
  {
   "cell_type": "code",
   "execution_count": 15,
   "metadata": {
    "collapsed": true
   },
   "outputs": [],
   "source": [
    "cardreader_error_date = get_error_date(state, 'CardReaderStatus', 'cardreader').reset_index()\n",
    "prr_error_date = get_error_date(state, 'PRRStatus', 'prr').reset_index()\n",
    "cdm_error_date = get_error_date(state, 'CDMStatus', 'cdm').reset_index()\n",
    "bna_error_date = get_error_date(state, 'BNAStatus', 'bna').reset_index()"
   ]
  },
  {
   "cell_type": "code",
   "execution_count": 16,
   "metadata": {
    "collapsed": true
   },
   "outputs": [],
   "source": [
    "def state_aggr(x):\n",
    "    out = {\n",
    "        'status_count': len(x),\n",
    "        'avg_cdm_error': x['CDMStatus'].isin(['hw error', 'user error', 'locked']).mean(),\n",
    "        'avg_bna_error': x['BNAStatus'].isin(['hw error', 'user error', 'locked']).mean(),\n",
    "        'avg_cardreader_error': x['CardReaderStatus'].isin(['hw error', 'user error', 'locked']).mean(),\n",
    "        'avg_prr_error': x['PRRStatus'].isin(['hw error', 'user error', 'locked']).mean(),\n",
    "        'avg_alm_error': x['ALMStatus'].isin(['hw error', 'user error', 'locked']).mean(),\n",
    "        'avg_ups_error': x['UPSStatus'].isin(['hw error', 'user error', 'locked']).mean(),\n",
    "        'avg_hasp_error': x['HASPStatus'].isin(['hw error', 'user error', 'locked']).mean(),\n",
    "        'avg_connection_error': x['ConnectionStatus'].isin(['hw error', 'user error', 'locked']).mean(),\n",
    "        'avg_mcrw_error': x['MCRWStatus'].isin(['hw error', 'user error', 'locked']).mean(),\n",
    "        'avg_prj_error': x['PRJStatus'].isin(['hw error', 'user error', 'locked']).mean(),\n",
    "        'avg_dep_error': x['DEPStatus'].isin(['hw error', 'user error', 'locked']).mean(),\n",
    "        'avg_key_error': x['KEYStatus'].isin(['hw error', 'user error', 'locked']).mean(),\n",
    "        'avg_monitoring_error': x['MONITORINGStatus'].isin(['hw error', 'user error', 'locked']).mean(),\n",
    "        'avg_license_error': x['LICENSEStatus'].isin(['hw error', 'user error', 'locked']).mean(),\n",
    "        'avg_ndc_error': x['NDCStatus'].isin(['hw error', 'user error', 'locked']).mean(),\n",
    "        'avg_epp_error': x['EPPStatus'].isin(['hw error', 'user error', 'locked']).mean(),\n",
    "    }\n",
    "\n",
    "    return pd.Series(out)"
   ]
  },
  {
   "cell_type": "code",
   "execution_count": 17,
   "metadata": {
    "collapsed": true
   },
   "outputs": [],
   "source": [
    "def get_state_features(x):\n",
    "    x = x.copy()\n",
    "    x['count_prr_error'] = x['avg_prr_error'] * x['status_count']\n",
    "    x['count_bna_error'] = x['avg_bna_error'] * x['status_count']\n",
    "    x['count_cardreader_error'] = x['avg_cardreader_error'] * x['status_count']\n",
    "    x['count_cdm_error'] = x['avg_cdm_error'] * x['status_count']\n",
    "    x['count_alm_error'] = x['avg_alm_error'] * x['status_count']\n",
    "    x['count_ups_error'] = x['avg_ups_error'] * x['status_count']\n",
    "    x['count_hasp_error'] = x['avg_hasp_error'] * x['status_count']\n",
    "    x['count_connection_error'] = x['avg_connection_error'] * x['status_count']\n",
    "    x['count_mcrw_error'] = x['avg_mcrw_error'] * x['status_count']\n",
    "    x['count_prj_error'] = x['avg_prj_error'] * x['status_count']\n",
    "    x['count_dep_error'] = x['avg_dep_error'] * x['status_count']\n",
    "    x['count_key_error'] = x['avg_key_error'] * x['status_count']\n",
    "    x['count_monitoring_error'] = x['avg_monitoring_error'] * x['status_count']\n",
    "    x['count_license_error'] = x['avg_license_error'] * x['status_count']\n",
    "    x['count_ndc_error'] = x['avg_ndc_error'] * x['status_count']\n",
    "    x['count_epp_error'] = x['avg_epp_error'] * x['status_count']\n",
    "    x['related_total_errors'] = (x['avg_prr_error'] + x['avg_cardreader_error'] + x['avg_bna_error'] + \\\n",
    "                                 x['avg_cdm_error']) * x['status_count']\n",
    "    x['non_related_total_errors'] = (x['avg_alm_error'] + x['avg_ups_error'] + x['avg_hasp_error'] + \\\n",
    "                                     x['avg_connection_error'] + x['avg_mcrw_error'] + \\\n",
    "                                     x['avg_prj_error'] + x['avg_dep_error'] + x['avg_key_error'] + \\\n",
    "                                     x['avg_monitoring_error'] + x['avg_license_error'] + x['avg_ndc_error'] + \\\n",
    "                                     x['avg_epp_error']) * x['status_count']\n",
    "    \n",
    "    return x"
   ]
  },
  {
   "cell_type": "code",
   "execution_count": 18,
   "metadata": {},
   "outputs": [
    {
     "name": "stdout",
     "output_type": "stream",
     "text": [
      "Wall time: 25.6 s\n"
     ]
    }
   ],
   "source": [
    "%%time\n",
    "state = state.groupby(['atm_id', 'year', 'period']).apply(state_aggr).reset_index()\n",
    "state= get_state_features(state)"
   ]
  },
  {
   "cell_type": "markdown",
   "metadata": {},
   "source": [
    "### Dataset"
   ]
  },
  {
   "cell_type": "code",
   "execution_count": 19,
   "metadata": {
    "collapsed": true
   },
   "outputs": [],
   "source": [
    "dataset = trans.merge(state, on=['atm_id', 'year', 'period'], how='inner')\n",
    "dataset = dataset.merge(info, on='atm_id', how='inner')\n",
    "dataset = dataset.merge(bna_error_date, on=['atm_id', 'year', 'period'], how='left')\n",
    "dataset = dataset.merge(prr_error_date, on=['atm_id', 'year', 'period'], how='left')\n",
    "dataset = dataset.merge(cdm_error_date, on=['atm_id', 'year', 'period'], how='left')\n",
    "dataset = dataset.merge(cardreader_error_date, on=['atm_id', 'year', 'period'], how='left')"
   ]
  },
  {
   "cell_type": "markdown",
   "metadata": {},
   "source": [
    "### Dataset features"
   ]
  },
  {
   "cell_type": "code",
   "execution_count": 20,
   "metadata": {
    "collapsed": true
   },
   "outputs": [],
   "source": [
    "def weekofyear_to_date(weekofyear, year):\n",
    "    fd_dayofweek = pd.datetime(year,1,1).isoweekday()\n",
    "    if fd_dayofweek>4:\n",
    "        fd = pd.datetime(year, 1, 1+8-fd_dayofweek)\n",
    "    else:\n",
    "        fd = pd.datetime(year, 1, 1-fd_dayofweek+1)\n",
    "    return fd + pd.to_timedelta((weekofyear-1)*7, 'd')\n",
    "def floor_date(x, forecast_period):\n",
    "    if forecast_period=='month':\n",
    "        return x.apply(lambda x: pd.datetime(year=x.year, month=x.month, day=1)\n",
    "                       if not pd.isnull(x) else x)\n",
    "    elif forecast_period=='weekofyear':\n",
    "        return x.apply(lambda x: (x - pd.to_timedelta(x.dayofweek, 'd')).normalize()\n",
    "                       if not pd.isnull(x) else x)\n",
    "    elif forecast_period=='weekofyear2':\n",
    "        return x.apply(lambda x: weekofyear_to_date(x.weekofyear//2*2+1, x.year)\n",
    "                    if not pd.isnull(x) else x)\n",
    "    else:\n",
    "        return x\n",
    "\n",
    "def ceil_date(x, forecast_period):\n",
    "    if forecast_period=='month':\n",
    "        return floor_date(x.apply(lambda x: (x + pd.to_timedelta(1, 'M')) \n",
    "                                  if not pd.isnull(x) else x), forecast_period)\n",
    "                       #pd.datetime(year=x.year, month=x.month, day=1))\n",
    "    elif forecast_period=='weekofyear':\n",
    "        return x.apply(lambda x: (x + pd.to_timedelta(7-x.dayofweek, 'd')).normalize()\n",
    "                       if not pd.isnull(x) else x)\n",
    "    elif forecast_period=='weekofyear2':\n",
    "        return x.apply(lambda x: weekofyear_to_date(x.weekofyear//2*2+3, x.year)\n",
    "                    if not pd.isnull(x) else x)\n",
    "    else:\n",
    "        return x\n",
    "    \n",
    "def get_days_since_last_error(x, forecast_period):\n",
    "    if forecast_period=='month':\n",
    "        return x.apply(lambda x: (pd.datetime(year=x.year, month=x.month+1, day=1)-x).days\n",
    "                       if not pd.isnull(x) else x)\n",
    "    elif forecast_period=='weekofyear':\n",
    "        return x.apply(lambda x: (pd.datetime(year=x.year, month=x.month, day=x.day+7)-x).days\n",
    "                       if not pd.isnull(x) else x)\n",
    "    elif forecast_period=='weekofyear2':\n",
    "        return 14\n",
    "    else:\n",
    "        return 0"
   ]
  },
  {
   "cell_type": "code",
   "execution_count": 21,
   "metadata": {
    "collapsed": true
   },
   "outputs": [],
   "source": [
    "def get_dataset_featurs(x):\n",
    "    x['status_to_transactions'] = x['status_count'] / x['transactions_count']\n",
    "    x['related_to_transactions'] = x['related_total_errors'] / x['transactions_count']\n",
    "    x['non_related_to_transactions'] = x['non_related_total_errors'] / x['transactions_count']\n",
    "    x['related_to_non_related'] = divide(x['related_total_errors'], x['non_related_total_errors'])\n",
    "    x['total_errors'] = x['related_total_errors'] + x['non_related_total_errors']\n",
    "    x['related_to_status'] = x['related_total_errors'] / x['status_count']\n",
    "    x['non_related_to_status'] = x['non_related_total_errors'] / x['status_count']\n",
    "    x['error_per_day'] = (x['related_total_errors'] + x['non_related_total_errors']) / x['days_in_forecast_period']\n",
    "\n",
    "    for b in ['cardreader', 'bna', 'cdm', 'prr']:\n",
    "        x['state_date_{0}'.format(b)] = pd.to_datetime(x['state_date_{0}'.format(b)])\n",
    "        x['days_since_last_{0}_error'.format(b)] = (ceil_date(x['state_date_{0}'.format(b)], FORECAST_PERIOD) - \\\n",
    "                                                    x['state_date_{0}'.format(b)]).apply(lambda x: x.days)\n",
    "        x['hours_since_last_{0}_error'.format(b)] = (ceil_date(x['state_date_{0}'.format(b)], FORECAST_PERIOD) - \\\n",
    "                                                    x['state_date_{0}'.format(b)]).apply(lambda x: x / np.timedelta64(1, 'h'))\n",
    "\n",
    "        x['days_since_last_{0}_error'.format(b)] = x.apply(lambda x: x['days_in_forecast_period'] \n",
    "                                                        if pd.isnull(x['days_since_last_{0}_error'.format(b)]) \n",
    "                                                        else x['days_since_last_{0}_error'.format(b)], axis=1)\n",
    "        x['hours_since_last_{0}_error'.format(b)] = x.apply(lambda x: x['days_in_forecast_period']*24\n",
    "                                                        if pd.isnull(x['hours_since_last_{0}_error'.format(b)]) \n",
    "                                                        else x['hours_since_last_{0}_error'.format(b)], axis=1)\n",
    "        \n",
    "        x['last_error_{0}_relative'.format(b)] = divide(x['count_{0}_error'.format(b)] * \\\n",
    "                                                        x['days_since_last_{0}_error'.format(b)],\n",
    "                                                        x['days_in_forecast_period'])\n",
    "        \n",
    "        x['{0}_error_by_disticnt_day'.format(b)] = divide(x['count_{0}_error'.format(b)],\n",
    "                                                          x['distinct_days'])\n",
    "        \n",
    "        x['{0}_error_by_day'.format(b)] = divide(x['count_{0}_error'.format(b)], \n",
    "                                                  x['days_in_forecast_period'])\n",
    "    \n",
    "    return x"
   ]
  },
  {
   "cell_type": "code",
   "execution_count": 22,
   "metadata": {
    "collapsed": true
   },
   "outputs": [],
   "source": [
    "dataset = get_dataset_featurs(dataset).sort_values(['atm_id', 'year', 'period'])"
   ]
  },
  {
   "cell_type": "markdown",
   "metadata": {},
   "source": [
    "#### history"
   ]
  },
  {
   "cell_type": "code",
   "execution_count": 23,
   "metadata": {
    "collapsed": true
   },
   "outputs": [],
   "source": [
    "def add_prev(df, periods=3, dropna=False):\n",
    "    df = df.sort_values(['year','period']).copy()\n",
    "    columns_to_shift = df.columns.drop(['atm_id', 'year', 'period'])\n",
    "    \n",
    "    for i in range(1, periods+1):\n",
    "        df[[c+'_prev'+str(i) for c in columns_to_shift]] = df[columns_to_shift].shift(i)\n",
    "        \n",
    "    if dropna:\n",
    "        return df.dropna().reset_index(drop=True)\n",
    "    else:\n",
    "        return df.reset_index(drop=True)\n",
    "\n",
    "def get_error_date(x, module, suffix=''):\n",
    "    return x.loc[x[module].isin(['hw error','user error','locked'])]\\\n",
    "            .groupby(['atm_id', 'year', 'period'])\\\n",
    "            .agg({'state_date':np.max})\\\n",
    "            .rename(columns={'state_date' : 'state_date_{suffix}'.format(suffix=suffix)})\n",
    "            \n",
    "def add_gr(df, columns, periods=3):\n",
    "    df = df.copy()\n",
    "    for i in range(1, periods+1):\n",
    "        columns_to_gr = [c+'_gr'+str(i) for c in columns]\n",
    "        df = df.reindex(columns=df.columns.tolist() + columns_to_gr)\n",
    "        df[columns_to_gr] = divide(df[columns].values,\n",
    "                                   df[[c+'_prev'+str(i) for c in columns]].values) - 1\n",
    "    return df\n",
    "\n",
    "def get_dataset_with_lag(df, val_features, periods=3):\n",
    "    prev_features = []\n",
    "    gr_features = []\n",
    "    for i in range(1, periods+1):\n",
    "        prev_features += [x + '_prev' + str(i) for x in val_features]\n",
    "        gr_features += [x + '_gr' + str(i) for x in val_features]\n",
    "\n",
    "    new_df = df.groupby(by=['atm_id'], as_index=False).apply(add_prev, periods=periods, dropna=True)    \n",
    "    new_df = add_gr(new_df, val_features, periods=periods)\n",
    "    new_df = new_df.replace(to_replace=[np.inf, -np.inf], value=np.nan)\n",
    "    new_df = new_df.fillna(new_df.mean()).fillna(0)\n",
    "    return new_df"
   ]
  },
  {
   "cell_type": "code",
   "execution_count": 24,
   "metadata": {
    "collapsed": true
   },
   "outputs": [],
   "source": [
    "df = dataset.copy()"
   ]
  },
  {
   "cell_type": "code",
   "execution_count": 25,
   "metadata": {
    "collapsed": true
   },
   "outputs": [],
   "source": [
    "cash_in_out_dict = {\n",
    "    'Cash-Out': 'Cash_Out',\n",
    "    'Cash-In/Cash-Out': 'Cash_In_Cash_Out'\n",
    "}\n",
    "df.cash_in_out = df.cash_in_out.apply(lambda x: cash_in_out_dict[x])\n",
    "display_type_dict = {\n",
    "    'Кнопочный': 'Buttons',\n",
    "    'Сенсорный': 'Sensor'\n",
    "}\n",
    "df.display_type = df.display_type.apply(lambda x: display_type_dict[x])\n",
    "scanner_code_reader_dict = {\n",
    "    'Нет': 'Nope',\n",
    "    'Двухмерный': '2D'\n",
    "}\n",
    "df.scanner_code_reader = df.scanner_code_reader.apply(lambda x: scanner_code_reader_dict[x])\n",
    "\n",
    "null_sums = df.isnull().sum()\n",
    "null_columns = list(null_sums[null_sums != 0].index)\n",
    "null_columns_float = list(df.dtypes[(df.dtypes.values=='float') & df.dtypes.keys().isin(null_columns)].keys())\n",
    "null_columns_float\n",
    "\n",
    "df[null_columns_float] = df.groupby(['model'])[null_columns_float]\\\n",
    "        .transform(lambda x: x.fillna(x.mean()))"
   ]
  },
  {
   "cell_type": "code",
   "execution_count": 26,
   "metadata": {},
   "outputs": [
    {
     "data": {
      "text/plain": [
       "(8391, 158)"
      ]
     },
     "execution_count": 26,
     "metadata": {},
     "output_type": "execute_result"
    }
   ],
   "source": [
    "df.shape"
   ]
  },
  {
   "cell_type": "code",
   "execution_count": 27,
   "metadata": {
    "collapsed": true
   },
   "outputs": [],
   "source": [
    "df.age = (pd.to_datetime('2017-01-01', format=\"%Y/%m/%d\") - pd.to_datetime(df.age, format=\"%Y/%m/%d %H:%M:%S\")).apply(lambda x: x.days)"
   ]
  },
  {
   "cell_type": "code",
   "execution_count": 28,
   "metadata": {},
   "outputs": [
    {
     "name": "stdout",
     "output_type": "stream",
     "text": [
      "cash_in_out: ['Cash_Out' 'Cash_In_Cash_Out']\n",
      "display_type: ['Buttons' 'Sensor']\n",
      "scanner_code_reader: ['Nope' '2D']\n",
      "--------------------------------------------------\n",
      "really_dummies: ['cash_in_out', 'display_type', 'scanner_code_reader']\n",
      "--------------------------------------------------\n",
      "oneval_dummies: []\n"
     ]
    }
   ],
   "source": [
    "probably_dummies = list(df.dtypes[df.dtypes.values=='object'].keys())\n",
    "really_dummies = []\n",
    "oneval_dummies = []\n",
    "for d in probably_dummies:\n",
    "    count = len(df[d].unique())\n",
    "    if count>3:\n",
    "        print('{0}:'.format(d), df[d].unique()[:4], '... {0} unique values'.format(count))\n",
    "    else:\n",
    "        print('{0}:'.format(d), df[d].unique())\n",
    "    if count>1:\n",
    "        really_dummies.append(d)\n",
    "    else:\n",
    "        oneval_dummies.append(d)\n",
    "print('-'*50)\n",
    "print('really_dummies:', really_dummies)\n",
    "print('-'*50)\n",
    "print('oneval_dummies:', oneval_dummies)"
   ]
  },
  {
   "cell_type": "code",
   "execution_count": 29,
   "metadata": {
    "collapsed": true
   },
   "outputs": [],
   "source": [
    "for i in ['state_date_bna', 'state_date_prr', 'state_date_cdm', 'state_date_cardreader', 'cash_in_out', 'display_type', 'scanner_code_reader']:\n",
    "    if i in really_dummies:\n",
    "        really_dummies.remove(i)\n",
    "\n",
    "df.drop(labels=oneval_dummies, inplace=True)\n",
    "\n",
    "# new lines about continios on val features\n",
    "oneval_cont = []\n",
    "for ft in df.columns:\n",
    "    if df[ft].nunique() < 2 and ft != 'year':\n",
    "        oneval_cont.append(ft)\n",
    "df.drop(labels=oneval_cont, inplace=True,axis = 1)\n",
    "# end new lines about continios on val features\n",
    "\n",
    "\n",
    "for col in ['state_date_bna', 'state_date_prr', 'state_date_cdm', 'state_date_cardreader']:\n",
    "    try:\n",
    "        df.drop(labels=col, inplace=True, axis = 1)\n",
    "    except:\n",
    "        pass"
   ]
  },
  {
   "cell_type": "code",
   "execution_count": 30,
   "metadata": {
    "collapsed": true
   },
   "outputs": [],
   "source": [
    "bad_cols = list(df.columns[df.isnull().any()].values)\n",
    "df.drop(bad_cols, axis=1, inplace=True)"
   ]
  },
  {
   "cell_type": "code",
   "execution_count": 31,
   "metadata": {},
   "outputs": [
    {
     "data": {
      "text/plain": [
       "(8391, 112)"
      ]
     },
     "execution_count": 31,
     "metadata": {},
     "output_type": "execute_result"
    }
   ],
   "source": [
    "df.shape"
   ]
  },
  {
   "cell_type": "code",
   "execution_count": 32,
   "metadata": {
    "collapsed": true
   },
   "outputs": [],
   "source": [
    "labels = []\n",
    "targets = ['cdm']\n",
    "for target in targets:\n",
    "    label = target + '_label'\n",
    "    labels.append(label)\n",
    "    df[label] = (df['avg_' + target + '_error'] > 0).astype(np.int64)"
   ]
  },
  {
   "cell_type": "markdown",
   "metadata": {},
   "source": [
    "## Предыстория"
   ]
  },
  {
   "cell_type": "code",
   "execution_count": 33,
   "metadata": {
    "collapsed": true
   },
   "outputs": [],
   "source": [
    "def add_prev(df, periods=3, dropna=False):\n",
    "    df = df.sort_values(['year','period']).copy()\n",
    "    columns_to_shift = df.columns.drop(['atm_id', 'year', 'period'])\n",
    "    \n",
    "    for i in range(1, periods+1):\n",
    "        df[[c+'_prev'+str(i) for c in columns_to_shift]] = df[columns_to_shift].shift(i)\n",
    "        \n",
    "    if dropna:\n",
    "        return df.dropna().reset_index(drop=True)\n",
    "    else:\n",
    "        return df.reset_index(drop=True)"
   ]
  },
  {
   "cell_type": "code",
   "execution_count": 34,
   "metadata": {
    "collapsed": true
   },
   "outputs": [],
   "source": [
    "def add_gr(df, columns, periods=3):\n",
    "    df = df.copy()\n",
    "    for i in range(1, periods+1):\n",
    "        columns_to_gr = [c+'_gr'+str(i) for c in columns] #df.columns.drop(['year',FORECAST_PERIOD])\n",
    "        df = df.reindex(columns=df.columns.tolist() + columns_to_gr)\n",
    "        df[columns_to_gr] = divide(df[columns].values,\n",
    "                                   df[[c+'_prev'+str(i) for c in columns]].values) - 1\n",
    "    return df"
   ]
  },
  {
   "cell_type": "code",
   "execution_count": 35,
   "metadata": {
    "collapsed": true
   },
   "outputs": [],
   "source": [
    "def get_dataset_with_lag(df, val_features, periods=3):\n",
    "    prev_features = []\n",
    "    gr_features = []\n",
    "    for i in range(1, periods+1):\n",
    "        prev_features += [x + '_prev' + str(i) for x in val_features]\n",
    "        gr_features += [x + '_gr' + str(i) for x in val_features]\n",
    "\n",
    "    new_df = df.groupby(by=['atm_id'], as_index=False).apply(add_prev, periods=periods, dropna=True)    \n",
    "    new_df = add_gr(new_df, val_features, periods=periods)\n",
    "    new_df = new_df.replace(to_replace=[np.inf, -np.inf], value=np.nan)\n",
    "    new_df = new_df.fillna(new_df.mean()).fillna(0)\n",
    "    return new_df, prev_features, gr_features"
   ]
  },
  {
   "cell_type": "code",
   "execution_count": 36,
   "metadata": {
    "collapsed": true
   },
   "outputs": [],
   "source": [
    "def aggdummies(data, dummy_prefix, agg_func):\n",
    "    return data.filter(like=dummy_prefix).agg(agg_func)\n",
    "def divide(a, b):\n",
    "    return np.divide(a, b, out=np.zeros_like(a), where=b!=0)\n",
    "def days_in_forecast_period(x, period_type):\n",
    "    if period_type=='month':\n",
    "        return x.apply(lambda x: calendar.monthrange(x.year, x.month)[1]).mean()\n",
    "    elif period_type=='weekofyear':\n",
    "        return 7\n",
    "    elif period_type=='weekofyear2':\n",
    "        return 14\n",
    "    else:\n",
    "        return 0"
   ]
  },
  {
   "cell_type": "code",
   "execution_count": 37,
   "metadata": {
    "collapsed": true
   },
   "outputs": [],
   "source": [
    "really_dummies = ['cash_in_out', 'display_type', 'scanner_code_reader']\n",
    "dummies_features = ['cash_in_out', 'display_type', 'scanner_code_reader']"
   ]
  },
  {
   "cell_type": "code",
   "execution_count": 38,
   "metadata": {},
   "outputs": [
    {
     "name": "stdout",
     "output_type": "stream",
     "text": [
      "Wall time: 54.5 s\n"
     ]
    }
   ],
   "source": [
    "%%time\n",
    "val_features = list(set(df.columns) - set(really_dummies) - set(oneval_dummies) - \\\n",
    "                    set(['atm_id', 'year', 'period']))\n",
    "new_df, prev_features, gr_features = get_dataset_with_lag(df, val_features, periods=5)\n",
    "features = val_features + dummies_features + prev_features + gr_features"
   ]
  },
  {
   "cell_type": "code",
   "execution_count": 39,
   "metadata": {
    "collapsed": true
   },
   "outputs": [],
   "source": [
    "features = list(pd.Series(features).unique())"
   ]
  },
  {
   "cell_type": "markdown",
   "metadata": {},
   "source": [
    "#### Берем метки следующего периода как целевые"
   ]
  },
  {
   "cell_type": "code",
   "execution_count": 40,
   "metadata": {
    "collapsed": true
   },
   "outputs": [],
   "source": [
    "new_df = new_df.sort_values(['atm_id', 'year', 'period'])\n",
    "for label in labels:\n",
    "    new_df[label+'_next'] = new_df.groupby('atm_id')[label].shift(-1)"
   ]
  },
  {
   "cell_type": "code",
   "execution_count": 41,
   "metadata": {
    "collapsed": true
   },
   "outputs": [],
   "source": [
    "target_test = []\n",
    "for at_id in range(351):\n",
    "    atm_labels = []\n",
    "    for label in labels:\n",
    "        atm_labels.insert(len(atm_labels), new_df[new_df['atm_id']==at_id][label])\n",
    "    target_test.insert(len(target_test), atm_labels)"
   ]
  },
  {
   "cell_type": "code",
   "execution_count": 42,
   "metadata": {},
   "outputs": [
    {
     "data": {
      "text/plain": [
       "(6636, 1199)"
      ]
     },
     "execution_count": 42,
     "metadata": {},
     "output_type": "execute_result"
    }
   ],
   "source": [
    "new_df.shape"
   ]
  },
  {
   "cell_type": "markdown",
   "metadata": {},
   "source": [
    "#### Приведим фреймы к выложенным на платформе"
   ]
  },
  {
   "cell_type": "code",
   "execution_count": 56,
   "metadata": {
    "collapsed": true
   },
   "outputs": [],
   "source": [
    "cols = ['atm_id', 'cardreader_error_by_day', 'hours_since_last_cdm_error', 'avg_cdm_dispense_count_distinct_day', 'status_count', 'avg_cdm_delivery_status_null', 'related_to_status', 'avg_cardreader_error', 'avg_reply_count_distinct_day', 'avg_session_error_count', 'avg_request_count_distinct_day', 'avg_receipt_confirm_count', 'avg_cdm_dispense_amount', 'bna_error_by_disticnt_day', 'non_related_to_status', 'avg_bna_return_count', 'non_related_to_transactions', 'total_errors', 'cdm_label', 'avg_hasp_error', 'avg_card_number_distinct_day', 'avg_dispence_currency_0', 'avg_request_count', 'transactions_count', 'avg_bna_error', 'days_since_last_cdm_error', 'cdm_error_by_disticnt_day', 'last_error_prr_relative', 'avg_bna_return_count_distinct_day', 'cardreader_error_by_disticnt_day', 'avg_cdm_delivery_status_unknown', 'avg_cdm_dispense_status_error', 'avg_cdm_delivery_status_unknown_distinct_day', 'avg_cdm_dispense_status_null', 'avg_front_prepare_count', 'avg_cdm_error', 'prr_error_by_disticnt_day', 'avg_front_prepare_count_distinct_day', 'avg_card_capture_count_distinct_day', 'error_per_day', 'bna_error_by_day', 'related_to_non_related', 'avg_reply_count', 'avg_session_error_count_distinct_day', 'prr_error_by_day', 'last_error_cdm_relative', 'avg_cdm_delivery_status_error', 'hours_since_last_cardreader_error', 'non_related_total_errors', 'avg_cdm_dispense_count', 'avg_cdm_dispense_amount_distinct_day', 'avg_cdm_delivery_status_ok', 'avg_cdm_delivery_count_distinct_day', 'last_error_cardreader_relative', 'related_to_transactions', 'cdm_error_by_day', 'avg_epp_error', 'avg_bna_accept_count_distinct_day', 'avg_cdm_dispense_status_ok', 'avg_card_capture_count', 'avg_card_number', 'avg_cdm_delivery_count', 'avg_command_copletion_count_distinct_day', 'avg_ndc_error', 'days_since_last_prr_error', 'age', 'model', 'avg_dispence_currency_810', 'avg_prr_error', 'avg_bna_accept_status_null', 'hours_since_last_bna_error', 'related_total_errors', 'avg_bna_vault_count_distinct_day', 'avg_bna_vault_count', 'days_since_last_bna_error', 'hours_since_last_prr_error', 'avg_command_completion_count', 'status_to_transactions', 'avg_bna_accept_count', 'avg_receipt_confirm_count_distinct_day', 'days_since_last_cardreader_error', 'avg_cdm_delivery_status_not_taken', 'distinct_days', 'last_error_bna_relative', 'avg_mcrw_error', 'cash_in_out', 'display_type', 'scanner_code_reader', 'cardreader_error_by_day_prev1', 'hours_since_last_cdm_error_prev1', 'avg_cdm_dispense_count_distinct_day_prev1', 'status_count_prev1', 'avg_cdm_delivery_status_null_prev1', 'related_to_status_prev1', 'avg_cardreader_error_prev1', 'avg_reply_count_distinct_day_prev1', 'avg_session_error_count_prev1', 'avg_request_count_distinct_day_prev1', 'avg_receipt_confirm_count_prev1', 'avg_cdm_dispense_amount_prev1', 'bna_error_by_disticnt_day_prev1', 'non_related_to_status_prev1', 'avg_bna_return_count_prev1', 'non_related_to_transactions_prev1', 'total_errors_prev1', 'cdm_label_prev1', 'avg_hasp_error_prev1', 'avg_card_number_distinct_day_prev1', 'avg_dispence_currency_0_prev1', 'avg_request_count_prev1', 'transactions_count_prev1', 'avg_bna_error_prev1', 'days_since_last_cdm_error_prev1', 'cdm_error_by_disticnt_day_prev1', 'last_error_prr_relative_prev1', 'avg_bna_return_count_distinct_day_prev1', 'cardreader_error_by_disticnt_day_prev1', 'avg_cdm_delivery_status_unknown_prev1', 'avg_cdm_dispense_status_error_prev1', 'avg_cdm_delivery_status_unknown_distinct_day_prev1', 'avg_cdm_dispense_status_null_prev1', 'avg_front_prepare_count_prev1', 'avg_cdm_error_prev1', 'prr_error_by_disticnt_day_prev1', 'avg_front_prepare_count_distinct_day_prev1', 'avg_card_capture_count_distinct_day_prev1', 'error_per_day_prev1', 'bna_error_by_day_prev1', 'related_to_non_related_prev1', 'avg_reply_count_prev1', 'avg_session_error_count_distinct_day_prev1', 'prr_error_by_day_prev1', 'last_error_cdm_relative_prev1', 'avg_cdm_delivery_status_error_prev1', 'hours_since_last_cardreader_error_prev1', 'non_related_total_errors_prev1', 'avg_cdm_dispense_count_prev1', 'avg_cdm_dispense_amount_distinct_day_prev1', 'avg_cdm_delivery_status_ok_prev1', 'avg_cdm_delivery_count_distinct_day_prev1', 'last_error_cardreader_relative_prev1', 'related_to_transactions_prev1', 'cdm_error_by_day_prev1', 'avg_epp_error_prev1', 'avg_bna_accept_count_distinct_day_prev1', 'avg_cdm_dispense_status_ok_prev1', 'avg_card_capture_count_prev1', 'avg_card_number_prev1', 'avg_cdm_delivery_count_prev1', 'avg_command_copletion_count_distinct_day_prev1', 'avg_ndc_error_prev1', 'days_since_last_prr_error_prev1', 'age_prev1', 'model_prev1', 'avg_dispence_currency_810_prev1', 'avg_prr_error_prev1', 'avg_bna_accept_status_null_prev1', 'hours_since_last_bna_error_prev1', 'related_total_errors_prev1', 'avg_bna_vault_count_distinct_day_prev1', 'avg_bna_vault_count_prev1', 'days_since_last_bna_error_prev1', 'hours_since_last_prr_error_prev1', 'avg_command_completion_count_prev1', 'status_to_transactions_prev1', 'avg_bna_accept_count_prev1', 'avg_receipt_confirm_count_distinct_day_prev1', 'days_since_last_cardreader_error_prev1', 'avg_cdm_delivery_status_not_taken_prev1', 'distinct_days_prev1', 'last_error_bna_relative_prev1', 'avg_mcrw_error_prev1', 'cardreader_error_by_day_prev2', 'hours_since_last_cdm_error_prev2', 'avg_cdm_dispense_count_distinct_day_prev2', 'status_count_prev2', 'avg_cdm_delivery_status_null_prev2', 'related_to_status_prev2', 'avg_cardreader_error_prev2', 'avg_reply_count_distinct_day_prev2', 'avg_session_error_count_prev2', 'avg_request_count_distinct_day_prev2', 'avg_receipt_confirm_count_prev2', 'avg_cdm_dispense_amount_prev2', 'bna_error_by_disticnt_day_prev2', 'non_related_to_status_prev2', 'avg_bna_return_count_prev2', 'non_related_to_transactions_prev2', 'total_errors_prev2', 'cdm_label_prev2', 'avg_hasp_error_prev2', 'avg_card_number_distinct_day_prev2', 'avg_dispence_currency_0_prev2', 'avg_request_count_prev2', 'transactions_count_prev2', 'avg_bna_error_prev2', 'days_since_last_cdm_error_prev2', 'cdm_error_by_disticnt_day_prev2', 'last_error_prr_relative_prev2', 'avg_bna_return_count_distinct_day_prev2', 'cardreader_error_by_disticnt_day_prev2', 'avg_cdm_delivery_status_unknown_prev2', 'avg_cdm_dispense_status_error_prev2', 'avg_cdm_delivery_status_unknown_distinct_day_prev2', 'avg_cdm_dispense_status_null_prev2', 'avg_front_prepare_count_prev2', 'avg_cdm_error_prev2', 'prr_error_by_disticnt_day_prev2', 'avg_front_prepare_count_distinct_day_prev2', 'avg_card_capture_count_distinct_day_prev2', 'error_per_day_prev2', 'bna_error_by_day_prev2', 'related_to_non_related_prev2', 'avg_reply_count_prev2', 'avg_session_error_count_distinct_day_prev2', 'prr_error_by_day_prev2', 'last_error_cdm_relative_prev2', 'avg_cdm_delivery_status_error_prev2', 'hours_since_last_cardreader_error_prev2', 'non_related_total_errors_prev2', 'avg_cdm_dispense_count_prev2', 'avg_cdm_dispense_amount_distinct_day_prev2', 'avg_cdm_delivery_status_ok_prev2', 'avg_cdm_delivery_count_distinct_day_prev2', 'last_error_cardreader_relative_prev2', 'related_to_transactions_prev2', 'cdm_error_by_day_prev2', 'avg_epp_error_prev2', 'avg_bna_accept_count_distinct_day_prev2', 'avg_cdm_dispense_status_ok_prev2', 'avg_card_capture_count_prev2', 'avg_card_number_prev2', 'avg_cdm_delivery_count_prev2', 'avg_command_copletion_count_distinct_day_prev2', 'avg_ndc_error_prev2', 'days_since_last_prr_error_prev2', 'age_prev2', 'model_prev2', 'avg_dispence_currency_810_prev2', 'avg_prr_error_prev2', 'avg_bna_accept_status_null_prev2', 'hours_since_last_bna_error_prev2', 'related_total_errors_prev2', 'avg_bna_vault_count_distinct_day_prev2', 'avg_bna_vault_count_prev2', 'days_since_last_bna_error_prev2', 'hours_since_last_prr_error_prev2', 'avg_command_completion_count_prev2', 'status_to_transactions_prev2', 'avg_bna_accept_count_prev2', 'avg_receipt_confirm_count_distinct_day_prev2', 'days_since_last_cardreader_error_prev2', 'avg_cdm_delivery_status_not_taken_prev2', 'distinct_days_prev2', 'last_error_bna_relative_prev2', 'avg_mcrw_error_prev2', 'cardreader_error_by_day_prev3', 'hours_since_last_cdm_error_prev3', 'avg_cdm_dispense_count_distinct_day_prev3', 'status_count_prev3', 'avg_cdm_delivery_status_null_prev3', 'related_to_status_prev3', 'avg_cardreader_error_prev3', 'avg_reply_count_distinct_day_prev3', 'avg_session_error_count_prev3', 'avg_request_count_distinct_day_prev3', 'avg_receipt_confirm_count_prev3', 'avg_cdm_dispense_amount_prev3', 'bna_error_by_disticnt_day_prev3', 'non_related_to_status_prev3', 'avg_bna_return_count_prev3', 'non_related_to_transactions_prev3', 'total_errors_prev3', 'cdm_label_prev3', 'avg_hasp_error_prev3', 'avg_card_number_distinct_day_prev3', 'avg_dispence_currency_0_prev3', 'avg_request_count_prev3', 'transactions_count_prev3', 'avg_bna_error_prev3', 'days_since_last_cdm_error_prev3', 'cdm_error_by_disticnt_day_prev3', 'last_error_prr_relative_prev3', 'avg_bna_return_count_distinct_day_prev3', 'cardreader_error_by_disticnt_day_prev3', 'avg_cdm_delivery_status_unknown_prev3', 'avg_cdm_dispense_status_error_prev3', 'avg_cdm_delivery_status_unknown_distinct_day_prev3', 'avg_cdm_dispense_status_null_prev3', 'avg_front_prepare_count_prev3', 'avg_cdm_error_prev3', 'prr_error_by_disticnt_day_prev3', 'avg_front_prepare_count_distinct_day_prev3', 'avg_card_capture_count_distinct_day_prev3', 'error_per_day_prev3', 'bna_error_by_day_prev3', 'related_to_non_related_prev3', 'avg_reply_count_prev3', 'avg_session_error_count_distinct_day_prev3', 'prr_error_by_day_prev3', 'last_error_cdm_relative_prev3', 'avg_cdm_delivery_status_error_prev3', 'hours_since_last_cardreader_error_prev3', 'non_related_total_errors_prev3', 'avg_cdm_dispense_count_prev3', 'avg_cdm_dispense_amount_distinct_day_prev3', 'avg_cdm_delivery_status_ok_prev3', 'avg_cdm_delivery_count_distinct_day_prev3', 'last_error_cardreader_relative_prev3', 'related_to_transactions_prev3', 'cdm_error_by_day_prev3', 'avg_epp_error_prev3', 'avg_bna_accept_count_distinct_day_prev3', 'avg_cdm_dispense_status_ok_prev3', 'avg_card_capture_count_prev3', 'avg_card_number_prev3', 'avg_cdm_delivery_count_prev3', 'avg_command_copletion_count_distinct_day_prev3', 'avg_ndc_error_prev3', 'days_since_last_prr_error_prev3', 'age_prev3', 'model_prev3', 'avg_dispence_currency_810_prev3', 'avg_prr_error_prev3', 'avg_bna_accept_status_null_prev3', 'hours_since_last_bna_error_prev3', 'related_total_errors_prev3', 'avg_bna_vault_count_distinct_day_prev3', 'avg_bna_vault_count_prev3', 'days_since_last_bna_error_prev3', 'hours_since_last_prr_error_prev3', 'avg_command_completion_count_prev3', 'status_to_transactions_prev3', 'avg_bna_accept_count_prev3', 'avg_receipt_confirm_count_distinct_day_prev3', 'days_since_last_cardreader_error_prev3', 'avg_cdm_delivery_status_not_taken_prev3', 'distinct_days_prev3', 'last_error_bna_relative_prev3', 'avg_mcrw_error_prev3', 'cardreader_error_by_day_prev4', 'hours_since_last_cdm_error_prev4', 'avg_cdm_dispense_count_distinct_day_prev4', 'status_count_prev4', 'avg_cdm_delivery_status_null_prev4', 'related_to_status_prev4', 'avg_cardreader_error_prev4', 'avg_reply_count_distinct_day_prev4', 'avg_session_error_count_prev4', 'avg_request_count_distinct_day_prev4', 'avg_receipt_confirm_count_prev4', 'avg_cdm_dispense_amount_prev4', 'bna_error_by_disticnt_day_prev4', 'non_related_to_status_prev4', 'avg_bna_return_count_prev4', 'non_related_to_transactions_prev4', 'total_errors_prev4', 'cdm_label_prev4', 'avg_hasp_error_prev4', 'avg_card_number_distinct_day_prev4', 'avg_dispence_currency_0_prev4', 'avg_request_count_prev4', 'transactions_count_prev4', 'avg_bna_error_prev4', 'days_since_last_cdm_error_prev4', 'cdm_error_by_disticnt_day_prev4', 'last_error_prr_relative_prev4', 'avg_bna_return_count_distinct_day_prev4', 'cardreader_error_by_disticnt_day_prev4', 'avg_cdm_delivery_status_unknown_prev4', 'avg_cdm_dispense_status_error_prev4', 'avg_cdm_delivery_status_unknown_distinct_day_prev4', 'avg_cdm_dispense_status_null_prev4', 'avg_front_prepare_count_prev4', 'avg_cdm_error_prev4', 'prr_error_by_disticnt_day_prev4', 'avg_front_prepare_count_distinct_day_prev4', 'avg_card_capture_count_distinct_day_prev4', 'error_per_day_prev4', 'bna_error_by_day_prev4', 'related_to_non_related_prev4', 'avg_reply_count_prev4', 'avg_session_error_count_distinct_day_prev4', 'prr_error_by_day_prev4', 'last_error_cdm_relative_prev4', 'avg_cdm_delivery_status_error_prev4', 'hours_since_last_cardreader_error_prev4', 'non_related_total_errors_prev4', 'avg_cdm_dispense_count_prev4', 'avg_cdm_dispense_amount_distinct_day_prev4', 'avg_cdm_delivery_status_ok_prev4', 'avg_cdm_delivery_count_distinct_day_prev4', 'last_error_cardreader_relative_prev4', 'related_to_transactions_prev4', 'cdm_error_by_day_prev4', 'avg_epp_error_prev4', 'avg_bna_accept_count_distinct_day_prev4', 'avg_cdm_dispense_status_ok_prev4', 'avg_card_capture_count_prev4', 'avg_card_number_prev4', 'avg_cdm_delivery_count_prev4', 'avg_command_copletion_count_distinct_day_prev4', 'avg_ndc_error_prev4', 'days_since_last_prr_error_prev4', 'age_prev4', 'model_prev4', 'avg_dispence_currency_810_prev4', 'avg_prr_error_prev4', 'avg_bna_accept_status_null_prev4', 'hours_since_last_bna_error_prev4', 'related_total_errors_prev4', 'avg_bna_vault_count_distinct_day_prev4', 'avg_bna_vault_count_prev4', 'days_since_last_bna_error_prev4', 'hours_since_last_prr_error_prev4', 'avg_command_completion_count_prev4', 'status_to_transactions_prev4', 'avg_bna_accept_count_prev4', 'avg_receipt_confirm_count_distinct_day_prev4', 'days_since_last_cardreader_error_prev4', 'avg_cdm_delivery_status_not_taken_prev4', 'distinct_days_prev4', 'last_error_bna_relative_prev4', 'avg_mcrw_error_prev4', 'cardreader_error_by_day_prev5', 'hours_since_last_cdm_error_prev5', 'avg_cdm_dispense_count_distinct_day_prev5', 'status_count_prev5', 'avg_cdm_delivery_status_null_prev5', 'related_to_status_prev5', 'avg_cardreader_error_prev5', 'avg_reply_count_distinct_day_prev5', 'avg_session_error_count_prev5', 'avg_request_count_distinct_day_prev5', 'avg_receipt_confirm_count_prev5', 'avg_cdm_dispense_amount_prev5', 'bna_error_by_disticnt_day_prev5', 'non_related_to_status_prev5', 'avg_bna_return_count_prev5', 'non_related_to_transactions_prev5', 'total_errors_prev5', 'cdm_label_prev5', 'avg_hasp_error_prev5', 'avg_card_number_distinct_day_prev5', 'avg_dispence_currency_0_prev5', 'avg_request_count_prev5', 'transactions_count_prev5', 'avg_bna_error_prev5', 'days_since_last_cdm_error_prev5', 'cdm_error_by_disticnt_day_prev5', 'last_error_prr_relative_prev5', 'avg_bna_return_count_distinct_day_prev5', 'cardreader_error_by_disticnt_day_prev5', 'avg_cdm_delivery_status_unknown_prev5', 'avg_cdm_dispense_status_error_prev5', 'avg_cdm_delivery_status_unknown_distinct_day_prev5', 'avg_cdm_dispense_status_null_prev5', 'avg_front_prepare_count_prev5', 'avg_cdm_error_prev5', 'prr_error_by_disticnt_day_prev5', 'avg_front_prepare_count_distinct_day_prev5', 'avg_card_capture_count_distinct_day_prev5', 'error_per_day_prev5', 'bna_error_by_day_prev5', 'related_to_non_related_prev5', 'avg_reply_count_prev5', 'avg_session_error_count_distinct_day_prev5', 'prr_error_by_day_prev5', 'last_error_cdm_relative_prev5', 'avg_cdm_delivery_status_error_prev5', 'hours_since_last_cardreader_error_prev5', 'non_related_total_errors_prev5', 'avg_cdm_dispense_count_prev5', 'avg_cdm_dispense_amount_distinct_day_prev5', 'avg_cdm_delivery_status_ok_prev5', 'avg_cdm_delivery_count_distinct_day_prev5', 'last_error_cardreader_relative_prev5', 'related_to_transactions_prev5', 'cdm_error_by_day_prev5', 'avg_epp_error_prev5', 'avg_bna_accept_count_distinct_day_prev5', 'avg_cdm_dispense_status_ok_prev5', 'avg_card_capture_count_prev5', 'avg_card_number_prev5', 'avg_cdm_delivery_count_prev5', 'avg_command_copletion_count_distinct_day_prev5', 'avg_ndc_error_prev5', 'days_since_last_prr_error_prev5', 'age_prev5', 'model_prev5', 'avg_dispence_currency_810_prev5', 'avg_prr_error_prev5', 'avg_bna_accept_status_null_prev5', 'hours_since_last_bna_error_prev5', 'related_total_errors_prev5', 'avg_bna_vault_count_distinct_day_prev5', 'avg_bna_vault_count_prev5', 'days_since_last_bna_error_prev5', 'hours_since_last_prr_error_prev5', 'avg_command_completion_count_prev5', 'status_to_transactions_prev5', 'avg_bna_accept_count_prev5', 'avg_receipt_confirm_count_distinct_day_prev5', 'days_since_last_cardreader_error_prev5', 'avg_cdm_delivery_status_not_taken_prev5', 'distinct_days_prev5', 'last_error_bna_relative_prev5', 'avg_mcrw_error_prev5', 'cardreader_error_by_day_gr1', 'hours_since_last_cdm_error_gr1', 'avg_cdm_dispense_count_distinct_day_gr1', 'status_count_gr1', 'avg_cdm_delivery_status_null_gr1', 'related_to_status_gr1', 'avg_cardreader_error_gr1', 'avg_reply_count_distinct_day_gr1', 'avg_session_error_count_gr1', 'avg_request_count_distinct_day_gr1', 'avg_receipt_confirm_count_gr1', 'avg_cdm_dispense_amount_gr1', 'bna_error_by_disticnt_day_gr1', 'non_related_to_status_gr1', 'avg_bna_return_count_gr1', 'non_related_to_transactions_gr1', 'total_errors_gr1', 'cdm_label_gr1', 'avg_card_number_distinct_day_gr1', 'avg_dispence_currency_0_gr1', 'avg_request_count_gr1', 'transactions_count_gr1', 'avg_bna_error_gr1', 'days_since_last_cdm_error_gr1', 'cdm_error_by_disticnt_day_gr1', 'last_error_prr_relative_gr1', 'avg_bna_return_count_distinct_day_gr1', 'cardreader_error_by_disticnt_day_gr1', 'avg_cdm_delivery_status_unknown_gr1', 'avg_cdm_dispense_status_error_gr1', 'avg_cdm_delivery_status_unknown_distinct_day_gr1', 'avg_cdm_dispense_status_null_gr1', 'avg_front_prepare_count_gr1', 'avg_cdm_error_gr1', 'prr_error_by_disticnt_day_gr1', 'avg_front_prepare_count_distinct_day_gr1', 'avg_card_capture_count_distinct_day_gr1', 'error_per_day_gr1', 'bna_error_by_day_gr1', 'related_to_non_related_gr1', 'avg_reply_count_gr1', 'avg_session_error_count_distinct_day_gr1', 'prr_error_by_day_gr1', 'last_error_cdm_relative_gr1', 'avg_cdm_delivery_status_error_gr1', 'hours_since_last_cardreader_error_gr1', 'non_related_total_errors_gr1', 'avg_cdm_dispense_count_gr1', 'avg_cdm_dispense_amount_distinct_day_gr1', 'avg_cdm_delivery_status_ok_gr1', 'avg_cdm_delivery_count_distinct_day_gr1', 'last_error_cardreader_relative_gr1', 'related_to_transactions_gr1', 'cdm_error_by_day_gr1', 'avg_bna_accept_count_distinct_day_gr1', 'avg_cdm_dispense_status_ok_gr1', 'avg_card_capture_count_gr1', 'avg_card_number_gr1', 'avg_cdm_delivery_count_gr1', 'avg_command_copletion_count_distinct_day_gr1', 'avg_ndc_error_gr1', 'days_since_last_prr_error_gr1', 'avg_dispence_currency_810_gr1', 'avg_prr_error_gr1', 'avg_bna_accept_status_null_gr1', 'hours_since_last_bna_error_gr1', 'related_total_errors_gr1', 'avg_bna_vault_count_distinct_day_gr1', 'avg_bna_vault_count_gr1', 'days_since_last_bna_error_gr1', 'hours_since_last_prr_error_gr1', 'avg_command_completion_count_gr1', 'status_to_transactions_gr1', 'avg_bna_accept_count_gr1', 'avg_receipt_confirm_count_distinct_day_gr1', 'days_since_last_cardreader_error_gr1', 'avg_cdm_delivery_status_not_taken_gr1', 'distinct_days_gr1', 'last_error_bna_relative_gr1', 'avg_mcrw_error_gr1', 'cardreader_error_by_day_gr2', 'hours_since_last_cdm_error_gr2', 'avg_cdm_dispense_count_distinct_day_gr2', 'status_count_gr2', 'avg_cdm_delivery_status_null_gr2', 'related_to_status_gr2', 'avg_cardreader_error_gr2', 'avg_reply_count_distinct_day_gr2', 'avg_session_error_count_gr2', 'avg_request_count_distinct_day_gr2', 'avg_receipt_confirm_count_gr2', 'avg_cdm_dispense_amount_gr2', 'bna_error_by_disticnt_day_gr2', 'non_related_to_status_gr2', 'avg_bna_return_count_gr2', 'non_related_to_transactions_gr2', 'total_errors_gr2', 'cdm_label_gr2', 'avg_card_number_distinct_day_gr2', 'avg_dispence_currency_0_gr2', 'avg_request_count_gr2', 'transactions_count_gr2', 'avg_bna_error_gr2', 'days_since_last_cdm_error_gr2', 'cdm_error_by_disticnt_day_gr2', 'last_error_prr_relative_gr2', 'avg_bna_return_count_distinct_day_gr2', 'cardreader_error_by_disticnt_day_gr2', 'avg_cdm_delivery_status_unknown_gr2', 'avg_cdm_dispense_status_error_gr2', 'avg_cdm_delivery_status_unknown_distinct_day_gr2', 'avg_cdm_dispense_status_null_gr2', 'avg_front_prepare_count_gr2', 'avg_cdm_error_gr2', 'prr_error_by_disticnt_day_gr2', 'avg_front_prepare_count_distinct_day_gr2', 'avg_card_capture_count_distinct_day_gr2', 'error_per_day_gr2', 'bna_error_by_day_gr2', 'related_to_non_related_gr2', 'avg_reply_count_gr2', 'avg_session_error_count_distinct_day_gr2', 'prr_error_by_day_gr2', 'last_error_cdm_relative_gr2', 'avg_cdm_delivery_status_error_gr2', 'hours_since_last_cardreader_error_gr2', 'non_related_total_errors_gr2', 'avg_cdm_dispense_count_gr2', 'avg_cdm_dispense_amount_distinct_day_gr2', 'avg_cdm_delivery_status_ok_gr2', 'avg_cdm_delivery_count_distinct_day_gr2', 'last_error_cardreader_relative_gr2', 'related_to_transactions_gr2', 'cdm_error_by_day_gr2', 'avg_bna_accept_count_distinct_day_gr2', 'avg_cdm_dispense_status_ok_gr2', 'avg_card_capture_count_gr2', 'avg_card_number_gr2', 'avg_cdm_delivery_count_gr2', 'avg_command_copletion_count_distinct_day_gr2', 'avg_ndc_error_gr2', 'days_since_last_prr_error_gr2', 'avg_dispence_currency_810_gr2', 'avg_prr_error_gr2', 'avg_bna_accept_status_null_gr2', 'hours_since_last_bna_error_gr2', 'related_total_errors_gr2', 'avg_bna_vault_count_distinct_day_gr2', 'avg_bna_vault_count_gr2', 'days_since_last_bna_error_gr2', 'hours_since_last_prr_error_gr2', 'avg_command_completion_count_gr2', 'status_to_transactions_gr2', 'avg_bna_accept_count_gr2', 'avg_receipt_confirm_count_distinct_day_gr2', 'days_since_last_cardreader_error_gr2', 'avg_cdm_delivery_status_not_taken_gr2', 'distinct_days_gr2', 'last_error_bna_relative_gr2', 'avg_mcrw_error_gr2', 'cardreader_error_by_day_gr3', 'hours_since_last_cdm_error_gr3', 'avg_cdm_dispense_count_distinct_day_gr3', 'status_count_gr3', 'avg_cdm_delivery_status_null_gr3', 'related_to_status_gr3', 'avg_cardreader_error_gr3', 'avg_reply_count_distinct_day_gr3', 'avg_session_error_count_gr3', 'avg_request_count_distinct_day_gr3', 'avg_receipt_confirm_count_gr3', 'avg_cdm_dispense_amount_gr3', 'bna_error_by_disticnt_day_gr3', 'non_related_to_status_gr3', 'avg_bna_return_count_gr3', 'non_related_to_transactions_gr3', 'total_errors_gr3', 'cdm_label_gr3', 'avg_card_number_distinct_day_gr3', 'avg_dispence_currency_0_gr3', 'avg_request_count_gr3', 'transactions_count_gr3', 'avg_bna_error_gr3', 'days_since_last_cdm_error_gr3', 'cdm_error_by_disticnt_day_gr3', 'last_error_prr_relative_gr3', 'avg_bna_return_count_distinct_day_gr3', 'cardreader_error_by_disticnt_day_gr3', 'avg_cdm_delivery_status_unknown_gr3', 'avg_cdm_dispense_status_error_gr3', 'avg_cdm_delivery_status_unknown_distinct_day_gr3', 'avg_cdm_dispense_status_null_gr3', 'avg_front_prepare_count_gr3', 'avg_cdm_error_gr3', 'prr_error_by_disticnt_day_gr3', 'avg_front_prepare_count_distinct_day_gr3', 'avg_card_capture_count_distinct_day_gr3', 'error_per_day_gr3', 'bna_error_by_day_gr3', 'related_to_non_related_gr3', 'avg_reply_count_gr3', 'avg_session_error_count_distinct_day_gr3', 'prr_error_by_day_gr3', 'last_error_cdm_relative_gr3', 'avg_cdm_delivery_status_error_gr3', 'hours_since_last_cardreader_error_gr3', 'non_related_total_errors_gr3', 'avg_cdm_dispense_count_gr3', 'avg_cdm_dispense_amount_distinct_day_gr3', 'avg_cdm_delivery_status_ok_gr3', 'avg_cdm_delivery_count_distinct_day_gr3', 'last_error_cardreader_relative_gr3', 'related_to_transactions_gr3', 'cdm_error_by_day_gr3', 'avg_bna_accept_count_distinct_day_gr3', 'avg_cdm_dispense_status_ok_gr3', 'avg_card_capture_count_gr3', 'avg_card_number_gr3', 'avg_cdm_delivery_count_gr3', 'avg_command_copletion_count_distinct_day_gr3', 'avg_ndc_error_gr3', 'days_since_last_prr_error_gr3', 'avg_dispence_currency_810_gr3', 'avg_prr_error_gr3', 'avg_bna_accept_status_null_gr3', 'hours_since_last_bna_error_gr3', 'related_total_errors_gr3', 'avg_bna_vault_count_distinct_day_gr3', 'avg_bna_vault_count_gr3', 'days_since_last_bna_error_gr3', 'hours_since_last_prr_error_gr3', 'avg_command_completion_count_gr3', 'status_to_transactions_gr3', 'avg_bna_accept_count_gr3', 'avg_receipt_confirm_count_distinct_day_gr3', 'days_since_last_cardreader_error_gr3', 'avg_cdm_delivery_status_not_taken_gr3', 'distinct_days_gr3', 'last_error_bna_relative_gr3', 'avg_mcrw_error_gr3', 'cardreader_error_by_day_gr4', 'hours_since_last_cdm_error_gr4', 'avg_cdm_dispense_count_distinct_day_gr4', 'status_count_gr4', 'avg_cdm_delivery_status_null_gr4', 'related_to_status_gr4', 'avg_cardreader_error_gr4', 'avg_reply_count_distinct_day_gr4', 'avg_session_error_count_gr4', 'avg_request_count_distinct_day_gr4', 'avg_receipt_confirm_count_gr4', 'avg_cdm_dispense_amount_gr4', 'bna_error_by_disticnt_day_gr4', 'non_related_to_status_gr4', 'avg_bna_return_count_gr4', 'non_related_to_transactions_gr4', 'total_errors_gr4', 'cdm_label_gr4', 'avg_card_number_distinct_day_gr4', 'avg_dispence_currency_0_gr4', 'avg_request_count_gr4', 'transactions_count_gr4', 'avg_bna_error_gr4', 'days_since_last_cdm_error_gr4', 'cdm_error_by_disticnt_day_gr4', 'last_error_prr_relative_gr4', 'avg_bna_return_count_distinct_day_gr4', 'cardreader_error_by_disticnt_day_gr4', 'avg_cdm_delivery_status_unknown_gr4', 'avg_cdm_dispense_status_error_gr4', 'avg_cdm_delivery_status_unknown_distinct_day_gr4', 'avg_cdm_dispense_status_null_gr4', 'avg_front_prepare_count_gr4', 'avg_cdm_error_gr4', 'prr_error_by_disticnt_day_gr4', 'avg_front_prepare_count_distinct_day_gr4', 'avg_card_capture_count_distinct_day_gr4', 'error_per_day_gr4', 'bna_error_by_day_gr4', 'related_to_non_related_gr4', 'avg_reply_count_gr4', 'avg_session_error_count_distinct_day_gr4', 'prr_error_by_day_gr4', 'last_error_cdm_relative_gr4', 'avg_cdm_delivery_status_error_gr4', 'hours_since_last_cardreader_error_gr4', 'non_related_total_errors_gr4', 'avg_cdm_dispense_count_gr4', 'avg_cdm_dispense_amount_distinct_day_gr4', 'avg_cdm_delivery_status_ok_gr4', 'avg_cdm_delivery_count_distinct_day_gr4', 'last_error_cardreader_relative_gr4', 'related_to_transactions_gr4', 'cdm_error_by_day_gr4', 'avg_bna_accept_count_distinct_day_gr4', 'avg_cdm_dispense_status_ok_gr4', 'avg_card_capture_count_gr4', 'avg_card_number_gr4', 'avg_cdm_delivery_count_gr4', 'avg_command_copletion_count_distinct_day_gr4', 'avg_ndc_error_gr4', 'days_since_last_prr_error_gr4', 'avg_dispence_currency_810_gr4', 'avg_prr_error_gr4', 'avg_bna_accept_status_null_gr4', 'hours_since_last_bna_error_gr4', 'related_total_errors_gr4', 'avg_bna_vault_count_distinct_day_gr4', 'avg_bna_vault_count_gr4', 'days_since_last_bna_error_gr4', 'hours_since_last_prr_error_gr4', 'avg_command_completion_count_gr4', 'status_to_transactions_gr4', 'avg_bna_accept_count_gr4', 'avg_receipt_confirm_count_distinct_day_gr4', 'days_since_last_cardreader_error_gr4', 'avg_cdm_delivery_status_not_taken_gr4', 'distinct_days_gr4', 'last_error_bna_relative_gr4', 'avg_mcrw_error_gr4', 'cardreader_error_by_day_gr5', 'hours_since_last_cdm_error_gr5', 'avg_cdm_dispense_count_distinct_day_gr5', 'status_count_gr5', 'avg_cdm_delivery_status_null_gr5', 'related_to_status_gr5', 'avg_cardreader_error_gr5', 'avg_reply_count_distinct_day_gr5', 'avg_session_error_count_gr5', 'avg_request_count_distinct_day_gr5', 'avg_receipt_confirm_count_gr5', 'avg_cdm_dispense_amount_gr5', 'bna_error_by_disticnt_day_gr5', 'non_related_to_status_gr5', 'avg_bna_return_count_gr5', 'non_related_to_transactions_gr5', 'total_errors_gr5', 'cdm_label_gr5', 'avg_card_number_distinct_day_gr5', 'avg_dispence_currency_0_gr5', 'avg_request_count_gr5', 'transactions_count_gr5', 'avg_bna_error_gr5', 'days_since_last_cdm_error_gr5', 'cdm_error_by_disticnt_day_gr5', 'last_error_prr_relative_gr5', 'avg_bna_return_count_distinct_day_gr5', 'cardreader_error_by_disticnt_day_gr5', 'avg_cdm_delivery_status_unknown_gr5', 'avg_cdm_dispense_status_error_gr5', 'avg_cdm_delivery_status_unknown_distinct_day_gr5', 'avg_cdm_dispense_status_null_gr5', 'avg_front_prepare_count_gr5', 'avg_cdm_error_gr5', 'prr_error_by_disticnt_day_gr5', 'avg_front_prepare_count_distinct_day_gr5', 'avg_card_capture_count_distinct_day_gr5', 'error_per_day_gr5', 'bna_error_by_day_gr5', 'related_to_non_related_gr5', 'avg_reply_count_gr5', 'avg_session_error_count_distinct_day_gr5', 'prr_error_by_day_gr5', 'last_error_cdm_relative_gr5', 'avg_cdm_delivery_status_error_gr5', 'hours_since_last_cardreader_error_gr5', 'non_related_total_errors_gr5', 'avg_cdm_dispense_count_gr5', 'avg_cdm_dispense_amount_distinct_day_gr5', 'avg_cdm_delivery_status_ok_gr5', 'avg_cdm_delivery_count_distinct_day_gr5', 'last_error_cardreader_relative_gr5', 'related_to_transactions_gr5', 'cdm_error_by_day_gr5', 'avg_bna_accept_count_distinct_day_gr5', 'avg_cdm_dispense_status_ok_gr5', 'avg_card_capture_count_gr5', 'avg_card_number_gr5', 'avg_cdm_delivery_count_gr5', 'avg_command_copletion_count_distinct_day_gr5', 'days_since_last_prr_error_gr5', 'avg_dispence_currency_810_gr5', 'avg_prr_error_gr5', 'avg_bna_accept_status_null_gr5', 'hours_since_last_bna_error_gr5', 'related_total_errors_gr5', 'avg_bna_vault_count_distinct_day_gr5', 'avg_bna_vault_count_gr5', 'days_since_last_bna_error_gr5', 'hours_since_last_prr_error_gr5', 'avg_command_completion_count_gr5', 'status_to_transactions_gr5', 'avg_bna_accept_count_gr5', 'avg_receipt_confirm_count_distinct_day_gr5', 'days_since_last_cardreader_error_gr5', 'avg_cdm_delivery_status_not_taken_gr5', 'distinct_days_gr5', 'last_error_bna_relative_gr5', 'avg_mcrw_error_gr5', 'target', 'period']"
   ]
  },
  {
   "cell_type": "code",
   "execution_count": 57,
   "metadata": {},
   "outputs": [],
   "source": [
    "trains, tests = new_df[(new_df.year == 2017) & (new_df.period < 24)], new_df[new_df.period == 24]\n",
    "trains = trains[['atm_id'] + features + ['cdm_label_next', 'period']]\n",
    "trains.rename(columns={'cdm_label_next': 'target'}, inplace=True)\n",
    "trains.reset_index(drop=True, inplace=True)\n",
    "tests = tests[['atm_id'] + features + ['cdm_label_next', 'period']]\n",
    "tests.rename(columns={'cdm_label_next': 'target'}, inplace=True)\n",
    "tests.reset_index(drop=True, inplace=True)\n",
    "\n",
    "trains.target = trains.target.astype(int)\n",
    "trains = trains.loc[:, cols]\n",
    "\n",
    "tests = tests.loc[:, cols]\n",
    "tests = tests.drop('target', axis=1)"
   ]
  },
  {
   "cell_type": "code",
   "execution_count": 58,
   "metadata": {},
   "outputs": [
    {
     "data": {
      "text/plain": [
       "((6285, 909), (351, 908))"
      ]
     },
     "execution_count": 58,
     "metadata": {},
     "output_type": "execute_result"
    }
   ],
   "source": [
    "trains.shape, tests.shape"
   ]
  },
  {
   "cell_type": "code",
   "execution_count": 59,
   "metadata": {
    "collapsed": true
   },
   "outputs": [],
   "source": [
    "trains.to_csv(os.path.join(path2data, 'train_data_prepared.csv'), index=False, encoding='utf-8', sep=';')\n",
    "tests.to_csv(os.path.join(path2data, 'test_data_prepared.csv'), index=False, encoding='utf-8', sep=';')"
   ]
  }
 ],
 "metadata": {
  "hide_input": false,
  "kernelspec": {
   "display_name": "Python 3",
   "language": "python",
   "name": "python3"
  },
  "language_info": {
   "codemirror_mode": {
    "name": "ipython",
    "version": 3
   },
   "file_extension": ".py",
   "mimetype": "text/x-python",
   "name": "python",
   "nbconvert_exporter": "python",
   "pygments_lexer": "ipython3",
   "version": "3.6.1"
  }
 },
 "nbformat": 4,
 "nbformat_minor": 2
}
